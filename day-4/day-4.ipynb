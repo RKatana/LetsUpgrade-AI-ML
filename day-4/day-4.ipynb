{
 "cells": [
  {
   "cell_type": "markdown",
   "metadata": {},
   "source": [
    "# LetsUpgrade AI/ML Day 4"
   ]
  },
  {
   "cell_type": "markdown",
   "metadata": {},
   "source": [
    "## Question 1 : \n",
    "Research on whether addition, subtraction, multiplication, division, floor division, and modulo operations be performed on complex numbers. Based on your study, implement a Python program to demonstrate these operations. "
   ]
  },
  {
   "cell_type": "code",
   "execution_count": 2,
   "metadata": {},
   "outputs": [
    {
     "name": "stdout",
     "output_type": "stream",
     "text": [
      "Adding complex numbers: 5j\n",
      "Subtracting complex numbers: -1j\n",
      "Multiplying complex numbers: (-6+0j)\n",
      "Dividing complex numbers: (0.6666666666666666+0j)\n"
     ]
    }
   ],
   "source": [
    "# Adding complex numbers\n",
    "print('Adding complex numbers, 2j + 3j:',2j + 3j)\n",
    "# Subtracting complex numbers\n",
    "print('Subtracting complex numbers, 2j - 3j:',2j - 3j)\n",
    "# Multiplying complex numbers\n",
    "print('Multiplying complex numbers, 2j * 3j:',2j * 3j)\n",
    "# Dividing complex numbers\n",
    "print('Dividing complex numbers, 2j / 3j:',2j / 3j)\n",
    "# NOTE: Modulo is not complex numbers"
   ]
  },
  {
   "cell_type": "markdown",
   "metadata": {},
   "source": [
    "## Question 2 : \n",
    "Research on range() functions and its parameters. Create a markdown cell and write in your own words (no copy-paste from google please) what you understand about it. Implement a small program of your choice on the same. \n"
   ]
  },
  {
   "cell_type": "code",
   "execution_count": 9,
   "metadata": {},
   "outputs": [
    {
     "data": {
      "text/plain": [
       "[0, 1, 2, 3, 4]"
      ]
     },
     "execution_count": 9,
     "metadata": {},
     "output_type": "execute_result"
    }
   ],
   "source": [
    "# Answer\n",
    "list(range(5))"
   ]
  },
  {
   "cell_type": "markdown",
   "metadata": {},
   "source": [
    "The Python range function creates an iterable where the highest index is 1 less than the value specified if converted to a list.\n",
    "\n",
    "The function takes in three arguments, that is:\n",
    "\n",
    "- start - By default this is 0\n",
    "- stop \n",
    "- step - This defaults to 1\n",
    "\n",
    "Example:\n",
    "\n",
    "`list(range(5)) #Output:[0, 1, 2, 3, 4]`"
   ]
  },
  {
   "cell_type": "markdown",
   "metadata": {},
   "source": [
    "## Question 3: \n",
    "Consider two numbers. Perform their subtraction and if the result of subtraction is greater than 25, print their multiplication result else print their division result. \n"
   ]
  },
  {
   "cell_type": "code",
   "execution_count": 10,
   "metadata": {},
   "outputs": [
    {
     "name": "stdout",
     "output_type": "stream",
     "text": [
      "1000\n",
      "0.4\n"
     ]
    }
   ],
   "source": [
    "def calc(num_1, num_2):\n",
    "    if (num_1 - num_2)>25:\n",
    "        print(num_1*num_2)\n",
    "    else: \n",
    "        print(num_1/num_2)\n",
    "# calc(50, 20)\n",
    "# calc(20, 50)"
   ]
  },
  {
   "cell_type": "markdown",
   "metadata": {},
   "source": [
    "## Question 4: \n",
    "Consider a list of 10 elements of integer values. If the number in the list is divisible by 2, print the result as \"square of that number minus 2\". \n"
   ]
  },
  {
   "cell_type": "code",
   "execution_count": 21,
   "metadata": {},
   "outputs": [
    {
     "name": "stdout",
     "output_type": "stream",
     "text": [
      "2 0\n",
      "4 4\n",
      "6 16\n",
      "8 36\n",
      "10 64\n"
     ]
    }
   ],
   "source": [
    "arr = [1,2,3,4,5,6,7,8,9,10]\n",
    "for i in arr:\n",
    "    if i%2 == 0:\n",
    "        print((i-2)**2)\n"
   ]
  },
  {
   "cell_type": "markdown",
   "metadata": {},
   "source": [
    "## Question 5: \n",
    "Consider a list of 10 elements. Print all the elements in the list which are greater than 7 when that number is divided 2.\n"
   ]
  },
  {
   "cell_type": "code",
   "execution_count": 25,
   "metadata": {},
   "outputs": [
    {
     "name": "stdout",
     "output_type": "stream",
     "text": [
      "16\n",
      "21\n",
      "26\n",
      "31\n",
      "36\n",
      "41\n",
      "46\n"
     ]
    }
   ],
   "source": [
    "arr = range(1, 50, 5)\n",
    "for i in arr:\n",
    "    if i/2 > 7:\n",
    "        print(i)"
   ]
  }
 ],
 "metadata": {
  "kernelspec": {
   "display_name": "Python 3",
   "language": "python",
   "name": "python3"
  },
  "language_info": {
   "codemirror_mode": {
    "name": "ipython",
    "version": 3
   },
   "file_extension": ".py",
   "mimetype": "text/x-python",
   "name": "python",
   "nbconvert_exporter": "python",
   "pygments_lexer": "ipython3",
   "version": "3.7.6"
  }
 },
 "nbformat": 4,
 "nbformat_minor": 4
}
